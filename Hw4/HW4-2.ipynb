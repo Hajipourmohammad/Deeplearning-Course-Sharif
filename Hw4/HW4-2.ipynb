{
 "cells": [
  {
   "cell_type": "markdown",
   "metadata": {
    "id": "Gikq5ndbV3RW",
    "outputId": "2ddf6876-7837-4d1e-bad6-c3fcddbf68ba"
   },
   "source": [
    "# Install and Import libraries 📚 "
   ]
  },
  {
   "cell_type": "code",
   "execution_count": 3,
   "metadata": {
    "colab": {
     "base_uri": "https://localhost:8080/"
    },
    "id": "x5C3K-f3V6Bv",
    "outputId": "890bbfae-c8f8-4e6c-e745-d73645a391b6"
   },
   "outputs": [
    {
     "name": "stdout",
     "output_type": "stream",
     "text": [
      "Looking in indexes: https://pypi.org/simple, https://us-python.pkg.dev/colab-wheels/public/simple/\n",
      "Requirement already satisfied: nltk in /usr/local/lib/python3.8/dist-packages (3.7)\n",
      "Requirement already satisfied: joblib in /usr/local/lib/python3.8/dist-packages (from nltk) (1.2.0)\n",
      "Requirement already satisfied: click in /usr/local/lib/python3.8/dist-packages (from nltk) (7.1.2)\n",
      "Requirement already satisfied: tqdm in /usr/local/lib/python3.8/dist-packages (from nltk) (4.64.1)\n",
      "Requirement already satisfied: regex>=2021.8.3 in /usr/local/lib/python3.8/dist-packages (from nltk) (2022.6.2)\n"
     ]
    },
    {
     "name": "stderr",
     "output_type": "stream",
     "text": [
      "[nltk_data] Downloading package punkt to /root/nltk_data...\n",
      "[nltk_data]   Package punkt is already up-to-date!\n"
     ]
    },
    {
     "name": "stdout",
     "output_type": "stream",
     "text": [
      "Drive already mounted at /content/drive; to attempt to forcibly remount, call drive.mount(\"/content/drive\", force_remount=True).\n",
      "fatal: destination path 'cocoapi' already exists and is not an empty directory.\n"
     ]
    }
   ],
   "source": [
    "# Import Torch Library\n",
    "import torch\n",
    "import torch.utils.data as data\n",
    "from torchvision import transforms\n",
    "import torch.nn as nn\n",
    "import torchvision.models as models\n",
    "\n",
    "# Import Required packages\n",
    "import pickle\n",
    "import zipfile \n",
    "import urllib\n",
    "import skimage.io as io \n",
    "import numpy as np \n",
    "from PIL import Image\n",
    "from tqdm import tqdm\n",
    "from collections import Counter\n",
    "!pip install nltk\n",
    "import nltk\n",
    "import os.path\n",
    "import os \n",
    "import math\n",
    "import sys\n",
    "import random\n",
    "import json\n",
    "nltk.download('punkt')\n",
    "from collections import Counter\n",
    "\n",
    "# Import Google Drive & Mount \n",
    "from google.colab import drive \n",
    "drive.mount('/content/drive')\n",
    "os.makedirs('opt', exist_ok=True)\n",
    "os.chdir('/content/opt')\n",
    "\n",
    "# Import COCO dataset\n",
    "!git clone 'https://github.com/cocodataset/cocoapi.git'\n",
    "\n",
    "import matplotlib.pyplot as plt \n",
    "%matplotlib inline "
   ]
  },
  {
   "cell_type": "markdown",
   "metadata": {
    "id": "aeT243yGaMVR"
   },
   "source": [
    "# Install pycocotools 🥥🛠¶"
   ]
  },
  {
   "cell_type": "code",
   "execution_count": 4,
   "metadata": {
    "colab": {
     "base_uri": "https://localhost:8080/"
    },
    "id": "xQuDtO9saMVS",
    "outputId": "ec73ceb7-414c-4a8a-fbb4-3385dfe15121"
   },
   "outputs": [
    {
     "name": "stdout",
     "output_type": "stream",
     "text": [
      "Looking in indexes: https://pypi.org/simple, https://us-python.pkg.dev/colab-wheels/public/simple/\n",
      "Requirement already satisfied: pycocotools in /usr/local/lib/python3.8/dist-packages (2.0.6)\n",
      "Requirement already satisfied: numpy in /usr/local/lib/python3.8/dist-packages (from pycocotools) (1.21.6)\n",
      "Requirement already satisfied: matplotlib>=2.1.0 in /usr/local/lib/python3.8/dist-packages (from pycocotools) (3.2.2)\n",
      "Requirement already satisfied: cycler>=0.10 in /usr/local/lib/python3.8/dist-packages (from matplotlib>=2.1.0->pycocotools) (0.11.0)\n",
      "Requirement already satisfied: python-dateutil>=2.1 in /usr/local/lib/python3.8/dist-packages (from matplotlib>=2.1.0->pycocotools) (2.8.2)\n",
      "Requirement already satisfied: kiwisolver>=1.0.1 in /usr/local/lib/python3.8/dist-packages (from matplotlib>=2.1.0->pycocotools) (1.4.4)\n",
      "Requirement already satisfied: pyparsing!=2.0.4,!=2.1.2,!=2.1.6,>=2.0.1 in /usr/local/lib/python3.8/dist-packages (from matplotlib>=2.1.0->pycocotools) (3.0.9)\n",
      "Requirement already satisfied: six>=1.5 in /usr/local/lib/python3.8/dist-packages (from python-dateutil>=2.1->matplotlib>=2.1.0->pycocotools) (1.15.0)\n"
     ]
    }
   ],
   "source": [
    "!pip install pycocotools\n",
    "from pycocotools.coco import COCO"
   ]
  },
  {
   "cell_type": "markdown",
   "metadata": {
    "id": "EMlU5YMiXgT2"
   },
   "source": [
    "## Download dataset and its annotation (Caption)"
   ]
  },
  {
   "cell_type": "code",
   "execution_count": 5,
   "metadata": {
    "colab": {
     "base_uri": "https://localhost:8080/"
    },
    "id": "CB5TFBLyXmsW",
    "outputId": "9309987f-e2a2-4c97-d164-3d3ce81835a8"
   },
   "outputs": [
    {
     "name": "stdout",
     "output_type": "stream",
     "text": [
      "zip removed\n",
      "zip removed\n",
      "loading annotations into memory...\n",
      "Done (t=11.87s)\n",
      "creating index...\n",
      "index created!\n",
      "loading annotations into memory...\n",
      "Done (t=0.30s)\n",
      "creating index...\n",
      "index created!\n",
      "zip removed\n",
      "zip removed\n"
     ]
    }
   ],
   "source": [
    "os.chdir('/content/opt/cocoapi')\n",
    "\n",
    "annotations_trainval2014 = 'http://images.cocodataset.org/annotations/annotations_trainval2014.zip'\n",
    "image_info_test2014 = 'http://images.cocodataset.org/annotations/image_info_test2014.zip'\n",
    "\n",
    "urllib.request.urlretrieve(annotations_trainval2014, filename = 'annotations_trainval2014.zip')\n",
    "urllib.request.urlretrieve(image_info_test2014, filename= 'image_info_test2014.zip')\n",
    "\n",
    "with zipfile.ZipFile('annotations_trainval2014.zip', 'r') as zip_ref:\n",
    "    zip_ref.extractall('/content/opt/cocoapi')  \n",
    "    os.remove('annotations_trainval2014.zip')\n",
    "    print('zip removed')\n",
    "\n",
    "with zipfile.ZipFile('image_info_test2014.zip' , 'r') as zip_ref:\n",
    "    zip_ref.extractall('/content/opt/cocoapi')  \n",
    "    os.remove('image_info_test2014.zip')\n",
    "    print('zip removed')\n",
    "\n",
    "os.chdir('/content/opt/cocoapi/annotations')\n",
    "\n",
    "coco = COCO(\"instances_val2014.json\")\n",
    "coco_caps = COCO(\"captions_val2014.json\")\n",
    "\n",
    "ids = list(coco.anns.keys())\n",
    "\n",
    "os.chdir('/content/opt/cocoapi')\n",
    "\n",
    "urllib.request.urlretrieve('http://images.cocodataset.org/zips/train2014.zip', 'train2014')\n",
    "urllib.request.urlretrieve('http://images.cocodataset.org/zips/test2014.zip', 'test2014')\n",
    "#urllib.request.urlretrieve(val2014, 'val2014')\n",
    "\n",
    "os.chdir('/content/opt/cocoapi')\n",
    "with zipfile.ZipFile('train2014', 'r') as zip_ref:\n",
    "    zip_ref.extractall('images')\n",
    "    os.remove('train2014')\n",
    "    print('zip removed')\n",
    "\n",
    "os.chdir('/content/opt/cocoapi')\n",
    "with zipfile.ZipFile('test2014', 'r') as zip_ref:\n",
    "    zip_ref.extractall('images')\n",
    "    os.remove('test2014')\n",
    "    print('zip removed')"
   ]
  },
  {
   "cell_type": "markdown",
   "metadata": {
    "id": "3pbWvqrn6wEG"
   },
   "source": [
    "# Showing One Sample "
   ]
  },
  {
   "cell_type": "code",
   "execution_count": 6,
   "metadata": {
    "colab": {
     "base_uri": "https://localhost:8080/",
     "height": 371
    },
    "id": "9WIpqAqdZIC8",
    "outputId": "bd4557af-1519-45be-ab6f-2be9dce46b9f"
   },
   "outputs": [
    {
     "name": "stdout",
     "output_type": "stream",
     "text": [
      "Number of annotations i.e captions for the image:  [179763, 179784, 183348, 185466, 190887]\n",
      "A computer is sitting on a desk with books.\n",
      "An open laptop sits in front of a bookshelf.\n",
      "A desk and bookshelf with a laptop computer, various books and a desk light.\n",
      "A cluttered desk with a laptop computer turned on.\n",
      "A computer is left on in front of a bookshelf\n"
     ]
    },
    {
     "data": {
      "image/png": "[encoded data removed]",
      "text/plain": [
       "<Figure size 432x288 with 1 Axes>"
      ]
     },
     "metadata": {
      "needs_background": "light"
     },
     "output_type": "display_data"
    }
   ],
   "source": [
    "ann_id = np.random.choice(ids)\n",
    "img_id = coco.anns[ann_id]['image_id']\n",
    "img = coco.loadImgs( img_id )[0]\n",
    "url = img['coco_url']\n",
    "I = io.imread(url)\n",
    "plt.imshow(I)\n",
    "\n",
    "ann_ids = coco_caps.getAnnIds(img_id)\n",
    "print('Number of annotations i.e captions for the image: ', ann_ids)\n",
    "anns = coco_caps.loadAnns(ann_ids)\n",
    "coco_caps.showAnns(anns)"
   ]
  },
  {
   "cell_type": "markdown",
   "metadata": {
    "id": "dzqvdn8BbUzn"
   },
   "source": [
    "## Define Word Embedding Class"
   ]
  },
  {
   "cell_type": "code",
   "execution_count": 7,
   "metadata": {
    "id": "jiu4TCgRaOHH"
   },
   "outputs": [],
   "source": [
    "class WordEmbedd(object):\n",
    "\n",
    "    def __init__(self,\n",
    "        vocab_threshold,\n",
    "        vocab_file='./vocab.pkl',\n",
    "        start_word=\"<start>\",\n",
    "        end_word=\"<end>\",\n",
    "        unk_word=\"<unk>\",\n",
    "        annotations_file='../cocoapi/annotations/captions_train2014.json',\n",
    "        vocab_from_file=False):\n",
    "\n",
    "        self.vocab_threshold = vocab_threshold\n",
    "        self.vocab_file = vocab_file\n",
    "        self.start_word = start_word\n",
    "        self.end_word = end_word\n",
    "        self.unk_word = unk_word\n",
    "        self.annotations_file = annotations_file\n",
    "        self.vocab_from_file = vocab_from_file\n",
    "        self.get_vocab()\n",
    "\n",
    "    def get_vocab(self):\n",
    "        if os.path.exists(self.vocab_file) & self.vocab_from_file:\n",
    "            with open(self.vocab_file, 'rb') as f:\n",
    "                vocab = pickle.load(f)\n",
    "                self.word2idx = vocab.word2idx\n",
    "                self.idx2word = vocab.idx2word\n",
    "            print('Vocabulary successfully loaded from vocab.pkl file!')\n",
    "        else:\n",
    "            self.build_vocab()\n",
    "            with open(self.vocab_file, 'wb') as f:\n",
    "                pickle.dump(self, f)\n",
    "        \n",
    "    def build_vocab(self):\n",
    "        self.init_vocab()\n",
    "        self.add_word(self.start_word)\n",
    "        self.add_word(self.end_word)\n",
    "        self.add_word(self.unk_word)\n",
    "        self.add_captions()\n",
    "\n",
    "    def init_vocab(self):\n",
    "        self.word2idx = {}\n",
    "        self.idx2word = {}\n",
    "        self.idx = 0\n",
    "\n",
    "    def add_word(self, word):\n",
    "        if not word in self.word2idx:\n",
    "            self.word2idx[word] = self.idx\n",
    "            self.idx2word[self.idx] = word\n",
    "            self.idx += 1\n",
    "\n",
    "    def add_captions(self):\n",
    "        coco = COCO(self.annotations_file)\n",
    "        counter = Counter()\n",
    "        ids = coco.anns.keys()\n",
    "        for i, id in enumerate(ids):\n",
    "            caption = str(coco.anns[id]['caption'])\n",
    "            tokens = nltk.tokenize.word_tokenize(caption.lower())\n",
    "            counter.update(tokens)\n",
    "\n",
    "            if i % 100000 == 0:\n",
    "                print(\"[%d/%d] Tokenizing captions...\" % (i, len(ids)))\n",
    "\n",
    "        words = [word for word, cnt in counter.items() if cnt >= self.vocab_threshold]\n",
    "\n",
    "        for i, word in enumerate(words):\n",
    "            self.add_word(word)\n",
    "\n",
    "    def __call__(self, word):\n",
    "        if not word in self.word2idx:\n",
    "            return self.word2idx[self.unk_word]\n",
    "        return self.word2idx[word]\n",
    "\n",
    "    def __len__(self):\n",
    "        return len(self.word2idx)"
   ]
  },
  {
   "cell_type": "markdown",
   "metadata": {
    "id": "EhardSH5b7sc"
   },
   "source": [
    "## Create Dataset Class"
   ]
  },
  {
   "cell_type": "code",
   "execution_count": 8,
   "metadata": {
    "id": "BLBFyQFZbnoO"
   },
   "outputs": [],
   "source": [
    "class COCO_Dataset(data.Dataset):\n",
    "    \n",
    "    def __init__(self, transform, mode, batch_size, vocab_threshold, vocab_file, start_word, \n",
    "        end_word, unk_word, annotations_file, vocab_from_file, img_folder):\n",
    "        self.transform = transform\n",
    "        self.mode = mode\n",
    "        self.batch_size = batch_size\n",
    "        self.vocab = WordEmbedd(vocab_threshold, vocab_file, start_word,\n",
    "            end_word, unk_word, annotations_file, vocab_from_file)\n",
    "        self.img_folder = img_folder\n",
    "        if self.mode == 'train':            \n",
    "            self.coco = COCO(annotations_file)\n",
    "            self.ids = list(self.coco.anns.keys())\n",
    "            print('Obtaining caption lengths...')\n",
    "            all_tokens = [nltk.tokenize.word_tokenize(str(self.coco.anns[self.ids[index]]['caption']).lower()) for index in tqdm(np.arange(len(self.ids)))]\n",
    "            self.caption_lengths = [len(token) for token in all_tokens]\n",
    "        else:\n",
    "            test_info = json.loads(open(annotations_file).read())\n",
    "            self.paths = [item['file_name'] for item in test_info['images']]\n",
    "        \n",
    "    def __getitem__(self, index):\n",
    "        if self.mode == 'train':\n",
    "            ann_id = self.ids[index]\n",
    "            caption = self.coco.anns[ann_id]['caption']\n",
    "            img_id = self.coco.anns[ann_id]['image_id']\n",
    "            path = self.coco.loadImgs(img_id)[0]['file_name']\n",
    "\n",
    "            image = Image.open(os.path.join(self.img_folder, path)).convert('RGB')\n",
    "            image = self.transform(image)\n",
    "\n",
    "            tokens = nltk.tokenize.word_tokenize(str(caption).lower())\n",
    "            caption = []\n",
    "            caption.append(self.vocab(self.vocab.start_word))\n",
    "            caption.extend([self.vocab(token) for token in tokens])\n",
    "            caption.append(self.vocab(self.vocab.end_word))\n",
    "            caption = torch.Tensor(caption).long()\n",
    "\n",
    "            return image, caption\n",
    "\n",
    "        else:\n",
    "            path = self.paths[index]\n",
    "\n",
    "            PIL_image = Image.open(os.path.join(self.img_folder, path)).convert('RGB')\n",
    "            orig_image = np.array(PIL_image)\n",
    "            image = self.transform(PIL_image)\n",
    "\n",
    "            return orig_image, image\n",
    "\n",
    "    def get_train_indices(self):\n",
    "        sel_length = np.random.choice(self.caption_lengths)\n",
    "        all_indices = np.where([self.caption_lengths[i] == sel_length for i in np.arange(len(self.caption_lengths))])[0]\n",
    "        indices = list(np.random.choice(all_indices, size=self.batch_size))\n",
    "        return indices\n",
    "\n",
    "    def __len__(self):\n",
    "        if self.mode == 'train':\n",
    "            return len(self.ids)\n",
    "        else:\n",
    "            return len(self.paths)"
   ]
  },
  {
   "cell_type": "markdown",
   "metadata": {
    "id": "-HWj3GaGcp4D"
   },
   "source": [
    "## Dataloader"
   ]
  },
  {
   "cell_type": "code",
   "execution_count": 9,
   "metadata": {
    "id": "Tztr0khLcKhu"
   },
   "outputs": [],
   "source": [
    "def get_loader(transform,\n",
    "               mode='train',\n",
    "               batch_size=1,\n",
    "               vocab_threshold=None,\n",
    "               vocab_file='./vocab.pkl',\n",
    "               start_word=\"<start>\",\n",
    "               end_word=\"<end>\",\n",
    "               unk_word=\"<unk>\",\n",
    "               vocab_from_file=True,\n",
    "               num_workers=0,\n",
    "               cocoapi_loc='/opt'):\n",
    "\n",
    "    assert mode in ['train', 'test'], \"mode must be one of 'train' or 'test'.\"\n",
    "    if vocab_from_file==False: assert mode=='train', \"To generate vocab from captions file, must be in training mode (mode='train').\"\n",
    "\n",
    "    if mode == 'train':\n",
    "        if vocab_from_file==True: assert os.path.exists(vocab_file), \"vocab_file does not exist.  Change vocab_from_file to False to create vocab_file.\"\n",
    "        img_folder = os.path.join(cocoapi_loc, 'cocoapi/images/train2014/')\n",
    "        annotations_file = os.path.join(cocoapi_loc, 'cocoapi/annotations/captions_train2014.json')\n",
    "    if mode == 'test':\n",
    "        assert batch_size==1, \"Please change batch_size to 1 if testing your model.\"\n",
    "        assert os.path.exists(vocab_file), \"Must first generate vocab.pkl from training data.\"\n",
    "        assert vocab_from_file==True, \"Change vocab_from_file to True.\"\n",
    "        img_folder = os.path.join(cocoapi_loc, 'cocoapi/images/test2014/')\n",
    "        annotations_file = os.path.join(cocoapi_loc, 'cocoapi/annotations/image_info_test2014.json')\n",
    "\n",
    "    dataset = COCO_Dataset(transform=transform,\n",
    "                          mode=mode,\n",
    "                          batch_size=batch_size,\n",
    "                          vocab_threshold=vocab_threshold,\n",
    "                          vocab_file=vocab_file,\n",
    "                          start_word=start_word,\n",
    "                          end_word=end_word,\n",
    "                          unk_word=unk_word,\n",
    "                          annotations_file=annotations_file,\n",
    "                          vocab_from_file=vocab_from_file,\n",
    "                          img_folder=img_folder)\n",
    "\n",
    "    if mode == 'train':\n",
    "        indices = dataset.get_train_indices()\n",
    "        initial_sampler = data.sampler.SubsetRandomSampler(indices=indices)\n",
    "        data_loader = data.DataLoader(dataset=dataset, \n",
    "                                      num_workers=num_workers,\n",
    "                                      batch_sampler=data.sampler.BatchSampler(sampler=initial_sampler,\n",
    "                                                                              batch_size=dataset.batch_size,\n",
    "                                                                              drop_last=False))\n",
    "    else:\n",
    "        data_loader = data.DataLoader(dataset=dataset,\n",
    "                                      batch_size=dataset.batch_size,\n",
    "                                      shuffle=True,\n",
    "                                      num_workers=num_workers)\n",
    "\n",
    "    return data_loader\n"
   ]
  },
  {
   "cell_type": "markdown",
   "metadata": {
    "id": "bl1O4mPDIQqE"
   },
   "source": [
    "# Making Dataset Iterable"
   ]
  },
  {
   "cell_type": "code",
   "execution_count": 10,
   "metadata": {
    "colab": {
     "base_uri": "https://localhost:8080/"
    },
    "id": "wl_dqX79dPqv",
    "outputId": "9b9be45c-0ce7-462e-9283-78c100d48720"
   },
   "outputs": [
    {
     "name": "stdout",
     "output_type": "stream",
     "text": [
      "loading annotations into memory...\n",
      "Done (t=0.79s)\n",
      "creating index...\n",
      "index created!\n",
      "[0/414113] Tokenizing captions...\n",
      "[100000/414113] Tokenizing captions...\n",
      "[200000/414113] Tokenizing captions...\n",
      "[300000/414113] Tokenizing captions...\n",
      "[400000/414113] Tokenizing captions...\n",
      "loading annotations into memory...\n",
      "Done (t=0.58s)\n",
      "creating index...\n",
      "index created!\n",
      "Obtaining caption lengths...\n"
     ]
    },
    {
     "name": "stderr",
     "output_type": "stream",
     "text": [
      "100%|██████████| 414113/414113 [00:39<00:00, 10572.15it/s]\n"
     ]
    }
   ],
   "source": [
    "transform_train = transforms.Compose([ \n",
    "    transforms.Resize(256),                          # smaller edge of image resized to 256\n",
    "    transforms.RandomCrop(224),                      # get 224x224 crop from random location\n",
    "    transforms.RandomHorizontalFlip(),               # horizontally flip image with probability=0.5\n",
    "    transforms.ToTensor(),                           # convert the PIL Image to a tensor\n",
    "    transforms.Normalize((0.485, 0.456, 0.406),      # normalize image for pre-trained model\n",
    "                         (0.229, 0.224, 0.225))])\n",
    "\n",
    "vocab_threshold = 8\n",
    "\n",
    "batch_size = 200\n",
    "\n",
    "data_loader_train = get_loader(transform=transform_train,\n",
    "                         mode='train',\n",
    "                         batch_size=batch_size,\n",
    "                         vocab_threshold=vocab_threshold,\n",
    "                         vocab_from_file=False,\n",
    "                         cocoapi_loc = '/content/opt')"
   ]
  },
  {
   "cell_type": "markdown",
   "metadata": {
    "id": "1C3ABOM_NjFP"
   },
   "source": [
    "# Showing On Caption For Image"
   ]
  },
  {
   "cell_type": "code",
   "execution_count": 11,
   "metadata": {
    "colab": {
     "base_uri": "https://localhost:8080/"
    },
    "id": "znWjnb6_doc3",
    "outputId": "f6d8062d-9ea8-4855-f2eb-666e8393d826"
   },
   "outputs": [
    {
     "name": "stdout",
     "output_type": "stream",
     "text": [
      "Find Below the Sample tokens and the idx values of those tokens in word2idx \n",
      "\n",
      "['<start>', 'a', 'person', 'doing', 'a', 'trick', 'xxxx', 'on', 'a', 'rail', 'while', 'riding', 'a', 'skateboard', '.', '<end>']\n",
      "tensor([  0,   3,  97, 744,   3, 393,   2,  38,   3, 993, 205, 137,   3, 743,\n",
      "         18,   1])\n",
      "Find index values for words below \n",
      "\n",
      "Start idx 0 , End idx 1 , unknown idx 2\n",
      "First few vocab {'<start>': 0, '<end>': 1, '<unk>': 2, 'a': 3, 'very': 4, 'clean': 5, 'and': 6, 'well': 7, 'decorated': 8, 'empty': 9}\n",
      "Total number of tokens in vocabulary: 7072\n"
     ]
    }
   ],
   "source": [
    "sample_caption = 'A person doing a trick xxxx on a rail while riding a skateboard.'\n",
    "sample_tokens = nltk.tokenize.word_tokenize( sample_caption.lower() )\n",
    "\n",
    "sample_caption = []\n",
    "start_word = data_loader_train.dataset.vocab.start_word\n",
    "end_word = data_loader_train.dataset.vocab.end_word\n",
    "sample_tokens.insert(0 , start_word)\n",
    "sample_tokens.append(end_word)\n",
    "sample_caption.extend([data_loader_train.dataset.vocab(token) for token in sample_tokens])\n",
    "\n",
    "\n",
    "sample_caption = torch.Tensor(sample_caption).long()\n",
    "print('Find Below the Sample tokens and the idx values of those tokens in word2idx' , '\\n')\n",
    "print(sample_tokens) \n",
    "print(sample_caption)\n",
    "\n",
    "print('Find index values for words below \\n')\n",
    "print('Start idx {} , End idx {} , unknown idx {}'.format(0,1,2))\n",
    "\n",
    "print('First few vocab', dict(list(data_loader_train.dataset.vocab.word2idx.items())[:10]))\n",
    "print('Total number of tokens in vocabulary:', len(data_loader_train.dataset.vocab))"
   ]
  },
  {
   "cell_type": "markdown",
   "metadata": {
    "id": "8rbTWNvNgHHh"
   },
   "source": [
    "## Use the Data Loader to Obtain Batches with the Same Length"
   ]
  },
  {
   "cell_type": "code",
   "execution_count": 12,
   "metadata": {
    "colab": {
     "base_uri": "https://localhost:8080/"
    },
    "id": "SQpp4-2chaOl",
    "outputId": "130aa83c-699c-40bc-c43d-02db80d96c2d"
   },
   "outputs": [
    {
     "name": "stdout",
     "output_type": "stream",
     "text": [
      "Caption Length: 10  Count 86302\n",
      "Caption Length: 11  Count 79971\n",
      "Caption Length:  9  Count 71920\n",
      "Caption Length: 12  Count 57653\n",
      "Caption Length: 13  Count 37668\n",
      "Caption Length: 14  Count 22342\n",
      "Caption Length:  8  Count 20742\n",
      "Caption Length: 15  Count 12839\n",
      "Caption Length: 16  Count  7736\n"
     ]
    }
   ],
   "source": [
    "counter = Counter(data_loader_train.dataset.caption_lengths)\n",
    "lengths = sorted(counter.items(), key = lambda pair : pair[1], reverse=True)\n",
    "for val,count in lengths:\n",
    "    print('Caption Length: %2d  Count %5d' %(val,count))\n",
    "    if count < 10000: \n",
    "        break\n",
    "\n",
    "# Randomly sample a caption length, and sample indices with that length.\n",
    "indices = data_loader_train.dataset.get_train_indices()\n",
    "# print('Sample Indices:' , indices )\n",
    "\n",
    "# Create and assign a batch sampler to retrieve a batch with the sampled indices.\n",
    "sampler = data.sampler.SubsetRandomSampler(  indices )\n",
    "data_loader_train.batch_sampler.sampler = sampler \n",
    "\n",
    "# obtain images, caption :\n",
    "images, captions = next(iter(data_loader_train))\n",
    "# print(images.shape, captions.shape)"
   ]
  },
  {
   "cell_type": "markdown",
   "metadata": {
    "id": "kRRHg1IBhu-T"
   },
   "source": [
    "## Define Encoder Network \n",
    "> "
   ]
  },
  {
   "cell_type": "code",
   "execution_count": 13,
   "metadata": {
    "id": "vIZrDBJnhxw7"
   },
   "outputs": [],
   "source": [
    "class EncoderNet(nn.Module):\n",
    "    def __init__(self, embed_size):\n",
    "        super(EncoderNet, self).__init__()\n",
    "        resnet = models.resnet50(pretrained=True)\n",
    "        for param in resnet.parameters():\n",
    "            param.requires_grad_(False)\n",
    "        \n",
    "        modules = list(resnet.children())[:-1]\n",
    "        self.resnet = nn.Sequential(*modules)\n",
    "        self.embed = nn.Linear(resnet.fc.in_features, embed_size)\n",
    "\n",
    "    def forward(self, images):\n",
    "        features = self.resnet(images)        \n",
    "        features = features.view(features.size(0), -1)        \n",
    "        features = self.embed(features)        \n",
    "        return features"
   ]
  },
  {
   "cell_type": "markdown",
   "metadata": {
    "id": "4q4l4_YNN8SZ"
   },
   "source": [
    "## Define Hyperparameter For Encoder Network "
   ]
  },
  {
   "cell_type": "code",
   "execution_count": 14,
   "metadata": {
    "colab": {
     "base_uri": "https://localhost:8080/",
     "height": 171,
     "referenced_widgets": [
      "ea5c839b4e2447168226812c7e1d6bd9",
      "ca0d1873dbdf46818d2db98ca5e4d4c0",
      "53f5f2ab24734bd0aebcd747bfafe89d",
      "1f9d4c0981284b978dc21d8127727a62",
      "e060aa9f9c2f43cb9e8f6410f6cc4b0c",
      "8bebfc2607564bc29ecba38b89770a73",
      "d0ab0104d1cf457bb506261e4461507c",
      "a14160769470449aaae77312bcc687e8",
      "91205398999544f981f68e47942a9f19",
      "d90bf85fc6064d4db3dec7f2adb01189",
      "ed680ca88362467f8ba2d6436a1fa878"
     ]
    },
    "id": "ub-h65vkohMJ",
    "outputId": "cd36f97e-90db-45be-e80e-220b696b8b8b"
   },
   "outputs": [
    {
     "name": "stderr",
     "output_type": "stream",
     "text": [
      "/usr/local/lib/python3.8/dist-packages/torchvision/models/_utils.py:208: UserWarning: The parameter 'pretrained' is deprecated since 0.13 and may be removed in the future, please use 'weights' instead.\n",
      "  warnings.warn(\n",
      "/usr/local/lib/python3.8/dist-packages/torchvision/models/_utils.py:223: UserWarning: Arguments other than a weight enum or `None` for 'weights' are deprecated since 0.13 and may be removed in the future. The current behavior is equivalent to passing `weights=ResNet50_Weights.IMAGENET1K_V1`. You can also use `weights=ResNet50_Weights.DEFAULT` to get the most up-to-date weights.\n",
      "  warnings.warn(msg)\n",
      "Downloading: \"https://download.pytorch.org/models/resnet50-0676ba61.pth\" to /root/.cache/torch/hub/checkpoints/resnet50-0676ba61.pth\n"
     ]
    },
    {
     "data": {
      "application/vnd.jupyter.widget-view+json": {
       "model_id": "ea5c839b4e2447168226812c7e1d6bd9",
       "version_major": 2,
       "version_minor": 0
      },
      "text/plain": [
       "  0%|          | 0.00/97.8M [00:00<?, ?B/s]"
      ]
     },
     "metadata": {},
     "output_type": "display_data"
    },
    {
     "name": "stdout",
     "output_type": "stream",
     "text": [
      "<class 'torch.Tensor'> torch.Size([200, 256]) torch.Size([200, 3, 224, 224])\n"
     ]
    }
   ],
   "source": [
    "# specify dim of image embedding\n",
    "device = torch.device('cuda' if torch.cuda.is_available() else 'cpu')\n",
    "embed_size = 256 \n",
    "encoder = EncoderNet(embed_size)\n",
    "encoder.to(device)\n",
    "images = images.to(device) # images from step2 \n",
    "features = encoder(images)\n",
    "\n",
    "print(type(features), features.shape, images.shape)\n",
    "assert( type(features) == torch.Tensor ), 'Encoder output should be pytorch tensor'\n",
    "assert (features.shape[0] == batch_size) & (features.shape[1] == embed_size), \"The shape of the encoder output is incorrect.\""
   ]
  },
  {
   "cell_type": "markdown",
   "metadata": {
    "id": "naS3n43kol7h"
   },
   "source": [
    "## Define Decoder Network\n",
    "> "
   ]
  },
  {
   "cell_type": "code",
   "execution_count": 15,
   "metadata": {
    "id": "Aq5hZeMJp-uO"
   },
   "outputs": [],
   "source": [
    "class DecoderRNN(nn.Module):\n",
    "    def __init__(self, embed_size, hidden_size, vocab_size, num_layers=1):\n",
    "        super(DecoderRNN, self).__init__()\n",
    "        self.embed_size = embed_size\n",
    "        self.hidden_size = hidden_size \n",
    "        self.vocab_size = vocab_size\n",
    "        self.num_layers = num_layers\n",
    "        self.word_embedding = nn.Embedding(self.vocab_size, self.embed_size)\n",
    "        self.lstm  = nn.LSTM(input_size=self.embed_size, \n",
    "                             hidden_size=self.hidden_size,\n",
    "                             num_layers=self.num_layers,\n",
    "                             batch_first=True \n",
    "                             )\n",
    "        self.fc = nn.Linear(self.hidden_size, self.vocab_size)\n",
    "        \n",
    "\n",
    "    def init_hidden(self, batch_size):\n",
    "        return (torch.zeros(self.num_layers, batch_size, self.hidden_size).to(device),\n",
    "        torch.zeros(self.num_layers, batch_size, self.hidden_size).to(device))\n",
    "    \n",
    "    def forward(self, features, captions):            \n",
    "        captions = captions[:,:-1]      \n",
    "        self.batch_size = features.shape[0]\n",
    "        self.hidden = self.init_hidden(self.batch_size)\n",
    "        embeds = self.word_embedding(captions)\n",
    "        inputs = torch.cat((features.unsqueeze(dim=1), embeds), dim=1)      \n",
    "        lstm_out , self.hidden = self.lstm(inputs , self.hidden)      \n",
    "        outputs = self.fc(lstm_out)      \n",
    "        return outputs\n",
    "\n",
    "    def Predict(self, inputs, max_len=20):        \n",
    "        final_output = []\n",
    "        batch_size = inputs.shape[0]         \n",
    "        hidden = self.init_hidden(batch_size) \n",
    "    \n",
    "        while True:\n",
    "            lstm_out, hidden = self.lstm(inputs, hidden) \n",
    "            outputs = self.fc(lstm_out)  \n",
    "            outputs = outputs.squeeze(1) \n",
    "            _, max_idx = torch.max(outputs, dim=1) \n",
    "            final_output.append(max_idx.cpu().numpy()[0].item())             \n",
    "            if (max_idx == 1 or len(final_output) >=20):\n",
    "                break\n",
    "            \n",
    "            inputs = self.word_embedding(max_idx) \n",
    "            inputs = inputs.unsqueeze(1)             \n",
    "        return final_output  "
   ]
  },
  {
   "cell_type": "markdown",
   "metadata": {
    "id": "bJaZzWfNrF9r"
   },
   "source": [
    "## Instatiate Model & Optimizer Class"
   ]
  },
  {
   "cell_type": "code",
   "execution_count": 16,
   "metadata": {
    "id": "Mg-d5DTvq6M8"
   },
   "outputs": [],
   "source": [
    "embed_size = 256\n",
    "hidden_size = 100\n",
    "vocab_size = len(data_loader_train.dataset.vocab)\n",
    "num_layers = 1 \n",
    "\n",
    "decoder = DecoderRNN(embed_size, hidden_size, vocab_size, num_layers)\n",
    "\n",
    "num_epochs = 2\n",
    "print_every = 200\n",
    "\n",
    "total_step = math.ceil(len(data_loader_train.dataset.caption_lengths) / data_loader_train.batch_sampler.batch_size)\n",
    "\n",
    "criterion = nn.CrossEntropyLoss()\n",
    "lr = 0.001\n",
    "all_params = list(decoder.parameters()) + list(encoder.embed.parameters())\n",
    "optimizer = torch.optim.Adam(params=all_params, lr=lr)"
   ]
  },
  {
   "cell_type": "markdown",
   "metadata": {
    "id": "Asbwg2fRMalP"
   },
   "source": [
    "## Training *Process*"
   ]
  },
  {
   "cell_type": "code",
   "execution_count": 17,
   "metadata": {
    "colab": {
     "base_uri": "https://localhost:8080/"
    },
    "id": "AKt4JFECr_g4",
    "outputId": "fa37a87d-8a52-4a90-a3ae-2f3d69bed2f5"
   },
   "outputs": [
    {
     "name": "stdout",
     "output_type": "stream",
     "text": [
      "Epochs [1/2], Step [0/2071], Loss [8.8726]\n",
      "Epochs [1/2], Step [200/2071], Loss [3.8858]\n",
      "Epochs [1/2], Step [400/2071], Loss [3.5302]\n",
      "Epochs [1/2], Step [600/2071], Loss [3.2635]\n",
      "Epochs [1/2], Step [800/2071], Loss [3.1594]\n",
      "Epochs [1/2], Step [1000/2071], Loss [3.4171]\n",
      "Epochs [1/2], Step [1200/2071], Loss [3.3260]\n",
      "Epochs [1/2], Step [1400/2071], Loss [2.9113]\n",
      "Epochs [1/2], Step [1600/2071], Loss [3.1247]\n",
      "Epochs [1/2], Step [1800/2071], Loss [2.8432]\n",
      "Epochs [1/2], Step [2000/2071], Loss [3.1300]\n",
      "Epochs [2/2], Step [0/2071], Loss [2.6249]\n",
      "Epochs [2/2], Step [200/2071], Loss [2.4140]\n",
      "Epochs [2/2], Step [400/2071], Loss [2.5153]\n",
      "Epochs [2/2], Step [600/2071], Loss [2.5142]\n",
      "Epochs [2/2], Step [800/2071], Loss [2.4785]\n",
      "Epochs [2/2], Step [1000/2071], Loss [2.5880]\n",
      "Epochs [2/2], Step [1200/2071], Loss [2.5129]\n",
      "Epochs [2/2], Step [1400/2071], Loss [2.4073]\n",
      "Epochs [2/2], Step [1600/2071], Loss [2.7630]\n",
      "Epochs [2/2], Step [1800/2071], Loss [2.5411]\n",
      "Epochs [2/2], Step [2000/2071], Loss [2.5033]\n"
     ]
    }
   ],
   "source": [
    "for e in range(num_epochs):\n",
    "    for step in range(total_step):\n",
    "        indices = data_loader_train.dataset.get_train_indices()\n",
    "        new_sampler = data.sampler.SubsetRandomSampler(indices)\n",
    "        data_loader_train.batch_sampler.sampler = new_sampler    \n",
    "        images, captions = next(iter(data_loader_train))    \n",
    "        images, captions = images.to(device), captions.to(device)\n",
    "        encoder, decoder = encoder.to(device), decoder.to(device)\n",
    "        encoder.zero_grad()    \n",
    "        decoder.zero_grad()\n",
    "        features = encoder(images)\n",
    "        output = decoder(features, captions)    \n",
    "        loss = criterion(output.view(-1, vocab_size), captions.view(-1))\n",
    "        loss.backward()\n",
    "        optimizer.step()\n",
    "        stat_vals = 'Epochs [%d/%d], Step [%d/%d], Loss [%.4f]' %( e+1,num_epochs,step,total_step,loss.item())\n",
    "        if step % print_every == 0:\n",
    "            print(stat_vals)\n",
    "            sys.stdout.flush()\n"
   ]
  },
  {
   "cell_type": "markdown",
   "metadata": {
    "id": "kQNlOCsftKF0"
   },
   "source": [
    "## Training *Process*"
   ]
  },
  {
   "cell_type": "code",
   "execution_count": 18,
   "metadata": {
    "colab": {
     "base_uri": "https://localhost:8080/",
     "height": 304
    },
    "id": "AOFQQj07tCX-",
    "outputId": "54f493b6-2c36-46c0-91e0-69d857bf203e"
   },
   "outputs": [
    {
     "name": "stdout",
     "output_type": "stream",
     "text": [
      "Vocabulary successfully loaded from vocab.pkl file!\n"
     ]
    },
    {
     "data": {
      "application/vnd.google.colaboratory.intrinsic+json": {
       "type": "string"
      },
      "text/plain": [
       "'a train is traveling down the tracks near a building .'"
      ]
     },
     "execution_count": 18,
     "metadata": {},
     "output_type": "execute_result"
    },
    {
     "data": {
      "image/png": "[encoded data removed]",
      "text/plain": [
       "<Figure size 432x288 with 1 Axes>"
      ]
     },
     "metadata": {
      "needs_background": "light"
     },
     "output_type": "display_data"
    }
   ],
   "source": [
    "transform_test = transforms.Compose([ \n",
    "    transforms.Resize(256),                          # smaller edge of image resized to 256\n",
    "    transforms.RandomCrop(224),                      # get 224x224 crop from random location\n",
    "    transforms.RandomHorizontalFlip(),               # horizontally flip image with probability=0.5\n",
    "    transforms.ToTensor(),                           # convert the PIL Image to a tensor\n",
    "    transforms.Normalize((0.485, 0.456, 0.406),      # normalize image for pre-trained model\n",
    "                         (0.229, 0.224, 0.225))])\n",
    "\n",
    "data_loader_test = get_loader(transform=transform_test,\n",
    "                         mode='test',                         \n",
    "                         cocoapi_loc = '/content/opt')\n",
    "\n",
    "data_iter = iter(data_loader_test)\n",
    "\n",
    "def get_sentences(original_img, all_predictions):\n",
    "    sentence = ' '\n",
    "    plt.imshow(original_img.squeeze())\n",
    "    return sentence.join([data_loader_test.dataset.vocab.idx2word[idx] for idx in all_predictions[1:-1]])\n",
    "\n",
    "encoder.to(device) \n",
    "decoder.to(device)\n",
    "encoder.eval()\n",
    "decoder.eval()\n",
    "original_img, processed_img = next(data_iter)\n",
    "\n",
    "features = encoder(processed_img.to(device)).unsqueeze(1)\n",
    "final_output = decoder.Predict(features, max_len=20)\n",
    "get_sentences(original_img, final_output)"
   ]
  }
 ],
 "metadata": {
  "accelerator": "GPU",
  "colab": {
   "provenance": []
  },
  "gpuClass": "standard",
  "kernelspec": {
   "display_name": "Python 3 (ipykernel)",
   "language": "python",
   "name": "python3"
  },
  "language_info": {
   "codemirror_mode": {
    "name": "ipython",
    "version": 3
   },
   "file_extension": ".py",
   "mimetype": "text/x-python",
   "name": "python",
   "nbconvert_exporter": "python",
   "pygments_lexer": "ipython3",
   "version": "3.9.6"
  },
  "widgets": {
   "application/vnd.jupyter.widget-state+json": {
    "1f9d4c0981284b978dc21d8127727a62": {
     "model_module": "@jupyter-widgets/controls",
     "model_module_version": "1.5.0",
     "model_name": "HTMLModel",
     "state": {
      "_dom_classes": [],
      "_model_module": "@jupyter-widgets/controls",
      "_model_module_version": "1.5.0",
      "_model_name": "HTMLModel",
      "_view_count": null,
      "_view_module": "@jupyter-widgets/controls",
      "_view_module_version": "1.5.0",
      "_view_name": "HTMLView",
      "description": "",
      "description_tooltip": null,
      "layout": "IPY_MODEL_d90bf85fc6064d4db3dec7f2adb01189",
      "placeholder": "​",
      "style": "IPY_MODEL_ed680ca88362467f8ba2d6436a1fa878",
      "value": " 97.8M/97.8M [00:01&lt;00:00, 81.8MB/s]"
     }
    },
    "53f5f2ab24734bd0aebcd747bfafe89d": {
     "model_module": "@jupyter-widgets/controls",
     "model_module_version": "1.5.0",
     "model_name": "FloatProgressModel",
     "state": {
      "_dom_classes": [],
      "_model_module": "@jupyter-widgets/controls",
      "_model_module_version": "1.5.0",
      "_model_name": "FloatProgressModel",
      "_view_count": null,
      "_view_module": "@jupyter-widgets/controls",
      "_view_module_version": "1.5.0",
      "_view_name": "ProgressView",
      "bar_style": "success",
      "description": "",
      "description_tooltip": null,
      "layout": "IPY_MODEL_a14160769470449aaae77312bcc687e8",
      "max": 102530333,
      "min": 0,
      "orientation": "horizontal",
      "style": "IPY_MODEL_91205398999544f981f68e47942a9f19",
      "value": 102530333
     }
    },
    "8bebfc2607564bc29ecba38b89770a73": {
     "model_module": "@jupyter-widgets/base",
     "model_module_version": "1.2.0",
     "model_name": "LayoutModel",
     "state": {
      "_model_module": "@jupyter-widgets/base",
      "_model_module_version": "1.2.0",
      "_model_name": "LayoutModel",
      "_view_count": null,
      "_view_module": "@jupyter-widgets/base",
      "_view_module_version": "1.2.0",
      "_view_name": "LayoutView",
      "align_content": null,
      "align_items": null,
      "align_self": null,
      "border": null,
      "bottom": null,
      "display": null,
      "flex": null,
      "flex_flow": null,
      "grid_area": null,
      "grid_auto_columns": null,
      "grid_auto_flow": null,
      "grid_auto_rows": null,
      "grid_column": null,
      "grid_gap": null,
      "grid_row": null,
      "grid_template_areas": null,
      "grid_template_columns": null,
      "grid_template_rows": null,
      "height": null,
      "justify_content": null,
      "justify_items": null,
      "left": null,
      "margin": null,
      "max_height": null,
      "max_width": null,
      "min_height": null,
      "min_width": null,
      "object_fit": null,
      "object_position": null,
      "order": null,
      "overflow": null,
      "overflow_x": null,
      "overflow_y": null,
      "padding": null,
      "right": null,
      "top": null,
      "visibility": null,
      "width": null
     }
    },
    "91205398999544f981f68e47942a9f19": {
     "model_module": "@jupyter-widgets/controls",
     "model_module_version": "1.5.0",
     "model_name": "ProgressStyleModel",
     "state": {
      "_model_module": "@jupyter-widgets/controls",
      "_model_module_version": "1.5.0",
      "_model_name": "ProgressStyleModel",
      "_view_count": null,
      "_view_module": "@jupyter-widgets/base",
      "_view_module_version": "1.2.0",
      "_view_name": "StyleView",
      "bar_color": null,
      "description_width": ""
     }
    },
    "a14160769470449aaae77312bcc687e8": {
     "model_module": "@jupyter-widgets/base",
     "model_module_version": "1.2.0",
     "model_name": "LayoutModel",
     "state": {
      "_model_module": "@jupyter-widgets/base",
      "_model_module_version": "1.2.0",
      "_model_name": "LayoutModel",
      "_view_count": null,
      "_view_module": "@jupyter-widgets/base",
      "_view_module_version": "1.2.0",
      "_view_name": "LayoutView",
      "align_content": null,
      "align_items": null,
      "align_self": null,
      "border": null,
      "bottom": null,
      "display": null,
      "flex": null,
      "flex_flow": null,
      "grid_area": null,
      "grid_auto_columns": null,
      "grid_auto_flow": null,
      "grid_auto_rows": null,
      "grid_column": null,
      "grid_gap": null,
      "grid_row": null,
      "grid_template_areas": null,
      "grid_template_columns": null,
      "grid_template_rows": null,
      "height": null,
      "justify_content": null,
      "justify_items": null,
      "left": null,
      "margin": null,
      "max_height": null,
      "max_width": null,
      "min_height": null,
      "min_width": null,
      "object_fit": null,
      "object_position": null,
      "order": null,
      "overflow": null,
      "overflow_x": null,
      "overflow_y": null,
      "padding": null,
      "right": null,
      "top": null,
      "visibility": null,
      "width": null
     }
    },
    "ca0d1873dbdf46818d2db98ca5e4d4c0": {
     "model_module": "@jupyter-widgets/controls",
     "model_module_version": "1.5.0",
     "model_name": "HTMLModel",
     "state": {
      "_dom_classes": [],
      "_model_module": "@jupyter-widgets/controls",
      "_model_module_version": "1.5.0",
      "_model_name": "HTMLModel",
      "_view_count": null,
      "_view_module": "@jupyter-widgets/controls",
      "_view_module_version": "1.5.0",
      "_view_name": "HTMLView",
      "description": "",
      "description_tooltip": null,
      "layout": "IPY_MODEL_8bebfc2607564bc29ecba38b89770a73",
      "placeholder": "​",
      "style": "IPY_MODEL_d0ab0104d1cf457bb506261e4461507c",
      "value": "100%"
     }
    },
    "d0ab0104d1cf457bb506261e4461507c": {
     "model_module": "@jupyter-widgets/controls",
     "model_module_version": "1.5.0",
     "model_name": "DescriptionStyleModel",
     "state": {
      "_model_module": "@jupyter-widgets/controls",
      "_model_module_version": "1.5.0",
      "_model_name": "DescriptionStyleModel",
      "_view_count": null,
      "_view_module": "@jupyter-widgets/base",
      "_view_module_version": "1.2.0",
      "_view_name": "StyleView",
      "description_width": ""
     }
    },
    "d90bf85fc6064d4db3dec7f2adb01189": {
     "model_module": "@jupyter-widgets/base",
     "model_module_version": "1.2.0",
     "model_name": "LayoutModel",
     "state": {
      "_model_module": "@jupyter-widgets/base",
      "_model_module_version": "1.2.0",
      "_model_name": "LayoutModel",
      "_view_count": null,
      "_view_module": "@jupyter-widgets/base",
      "_view_module_version": "1.2.0",
      "_view_name": "LayoutView",
      "align_content": null,
      "align_items": null,
      "align_self": null,
      "border": null,
      "bottom": null,
      "display": null,
      "flex": null,
      "flex_flow": null,
      "grid_area": null,
      "grid_auto_columns": null,
      "grid_auto_flow": null,
      "grid_auto_rows": null,
      "grid_column": null,
      "grid_gap": null,
      "grid_row": null,
      "grid_template_areas": null,
      "grid_template_columns": null,
      "grid_template_rows": null,
      "height": null,
      "justify_content": null,
      "justify_items": null,
      "left": null,
      "margin": null,
      "max_height": null,
      "max_width": null,
      "min_height": null,
      "min_width": null,
      "object_fit": null,
      "object_position": null,
      "order": null,
      "overflow": null,
      "overflow_x": null,
      "overflow_y": null,
      "padding": null,
      "right": null,
      "top": null,
      "visibility": null,
      "width": null
     }
    },
    "e060aa9f9c2f43cb9e8f6410f6cc4b0c": {
     "model_module": "@jupyter-widgets/base",
     "model_module_version": "1.2.0",
     "model_name": "LayoutModel",
     "state": {
      "_model_module": "@jupyter-widgets/base",
      "_model_module_version": "1.2.0",
      "_model_name": "LayoutModel",
      "_view_count": null,
      "_view_module": "@jupyter-widgets/base",
      "_view_module_version": "1.2.0",
      "_view_name": "LayoutView",
      "align_content": null,
      "align_items": null,
      "align_self": null,
      "border": null,
      "bottom": null,
      "display": null,
      "flex": null,
      "flex_flow": null,
      "grid_area": null,
      "grid_auto_columns": null,
      "grid_auto_flow": null,
      "grid_auto_rows": null,
      "grid_column": null,
      "grid_gap": null,
      "grid_row": null,
      "grid_template_areas": null,
      "grid_template_columns": null,
      "grid_template_rows": null,
      "height": null,
      "justify_content": null,
      "justify_items": null,
      "left": null,
      "margin": null,
      "max_height": null,
      "max_width": null,
      "min_height": null,
      "min_width": null,
      "object_fit": null,
      "object_position": null,
      "order": null,
      "overflow": null,
      "overflow_x": null,
      "overflow_y": null,
      "padding": null,
      "right": null,
      "top": null,
      "visibility": null,
      "width": null
     }
    },
    "ea5c839b4e2447168226812c7e1d6bd9": {
     "model_module": "@jupyter-widgets/controls",
     "model_module_version": "1.5.0",
     "model_name": "HBoxModel",
     "state": {
      "_dom_classes": [],
      "_model_module": "@jupyter-widgets/controls",
      "_model_module_version": "1.5.0",
      "_model_name": "HBoxModel",
      "_view_count": null,
      "_view_module": "@jupyter-widgets/controls",
      "_view_module_version": "1.5.0",
      "_view_name": "HBoxView",
      "box_style": "",
      "children": [
       "IPY_MODEL_ca0d1873dbdf46818d2db98ca5e4d4c0",
       "IPY_MODEL_53f5f2ab24734bd0aebcd747bfafe89d",
       "IPY_MODEL_1f9d4c0981284b978dc21d8127727a62"
      ],
      "layout": "IPY_MODEL_e060aa9f9c2f43cb9e8f6410f6cc4b0c"
     }
    },
    "ed680ca88362467f8ba2d6436a1fa878": {
     "model_module": "@jupyter-widgets/controls",
     "model_module_version": "1.5.0",
     "model_name": "DescriptionStyleModel",
     "state": {
      "_model_module": "@jupyter-widgets/controls",
      "_model_module_version": "1.5.0",
      "_model_name": "DescriptionStyleModel",
      "_view_count": null,
      "_view_module": "@jupyter-widgets/base",
      "_view_module_version": "1.2.0",
      "_view_name": "StyleView",
      "description_width": ""
     }
    }
   }
  }
 },
 "nbformat": 4,
 "nbformat_minor": 1
}
